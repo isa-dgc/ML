{
  "cells": [
    {
      "cell_type": "markdown",
      "metadata": {
        "id": "view-in-github",
        "colab_type": "text"
      },
      "source": [
        "<a href=\"https://colab.research.google.com/github/isa-dgc/ML/blob/main/SVM.ipynb\" target=\"_parent\"><img src=\"https://colab.research.google.com/assets/colab-badge.svg\" alt=\"Open In Colab\"/></a>"
      ]
    },
    {
      "cell_type": "markdown",
      "metadata": {
        "id": "N2jiN4xJlv9C"
      },
      "source": [
        "# O SVM (Support Vector Machine)\n",
        "- Utilizando o dataset iris, podemos utilizar apenas a coluna petal width (cm) e visualizar a seguinte classificação dos dados:\n",
        "<img src=\"https://drive.google.com/uc?id=1uEDHjpB-etkcNadcNYbBZqZeOBrIhCLi\" style='width: 600px;' />\n",
        "<br>\n",
        "- Se tivermos um novo ponto, como o mostrado em vermelho, automaticamente já vamos pensar que esse ponto possui a mesma classe dos pontos em roxo:\n",
        "<img src=\"https://drive.google.com/uc?id=1iYYZoHp4B9Suh6sI2H7G6G2WI6M-RKFP\" style='width: 600px;' />\n",
        "<br>\n",
        "- Da mesma forma, tendemos a pensar que esse novo ponto deve ser classificado como amarelo:\n",
        "<img src=\"https://drive.google.com/uc?id=1dfMuwPa6-r7CW9btaWnkHn3hVEDykKw6\" style='width: 600px;' />\n",
        "<br>\n",
        "- E é uma lógica muito parecida com essa que temos no SVM\n",
        "<br>\n",
        "- Podemos basicamente pegar os pontos que estão mais no extremo dos dados (**os pontos de duas classes diferentes que estão mais próximos entre si**) e usar esses pontos para determinar um <font color='red'>**hiperplano**</font> capaz de separar essas classes\n",
        "<img src=\"https://drive.google.com/uc?id=1KoDBoT2Lcm31A-ebAuWLgilSEEeY4OlW\" style='width: 600px;' />\n",
        "- **Quanto maior a margem, melhor!**\n",
        "<br><br>\n",
        "- Um fato importante é que ele **pode ser utilizado tanto em dados linearmente separáveis** (como mostrado acima) **como em dados que não são linearmente separáveis** (que são a maioria dos nossos dados)\n",
        "    - Ele faz isso elevando as dimensões dos dados\n",
        "    - O SVM vai usar as funções de kernel e no próprio algoritmo ele vai buscar a melhor dimensão capaz de encontrar essa reta\n",
        "    - Só que ele não faz efetivamente essas transformações, ele só vai calcular a relação entre os pontos considerando que eles estão nessas dimensões. Isso é chamado de **\"Truque do Kernel\"**\n",
        "<br>\n",
        "<img src=\"https://drive.google.com/uc?id=1DpLpHou1tc4UayxKFglqb4I48EhjoktX\" style='width: 1000px;' />\n",
        "<br>\n",
        "- E por mais que a gente tenha visto em apenas 1D, ele funciona para qualquer dimensão dos dados\n",
        "<img src=\"https://drive.google.com/uc?id=17U2EPYj1pmbkXFimoLLP1mDWN0uiW3kP\" style='width: 400px;' />\n",
        "<br>\n",
        "- **É um algoritmo muito poderoso porém pode demorar muito tempo para treinar os dados**"
      ],
      "id": "N2jiN4xJlv9C"
    },
    {
      "cell_type": "markdown",
      "metadata": {
        "id": "CAFYK0Cwlv9F"
      },
      "source": [
        "- **Para começar, podemos já usar o dataset iris**\n",
        "    - https://scikit-learn.org/stable/modules/generated/sklearn.datasets.load_iris.html#sklearn.datasets.load_iris"
      ],
      "id": "CAFYK0Cwlv9F"
    },
    {
      "cell_type": "code",
      "execution_count": null,
      "metadata": {
        "id": "knGV0O59lv9F"
      },
      "outputs": [],
      "source": [
        "# Importando o dataset\n",
        "from sklearn.datasets import load_iris\n",
        "X,y = load_iris(return_X_y = True, as_frame=True)"
      ],
      "id": "knGV0O59lv9F"
    },
    {
      "cell_type": "code",
      "execution_count": null,
      "metadata": {
        "id": "tU0MOewGlv9G"
      },
      "outputs": [],
      "source": [
        "# Considerando as duas colunas de pétala os targets 0 e 1\n",
        "X = X.loc[y.isin([0,1]),['petal length (cm)','petal width (cm)']]\n",
        "y = y[y.isin([0,1])]"
      ],
      "id": "tU0MOewGlv9G"
    },
    {
      "cell_type": "markdown",
      "metadata": {
        "id": "s75V7mX7lv9G"
      },
      "source": [
        "- E separar em treino e teste\n",
        "    - https://scikit-learn.org/stable/modules/generated/sklearn.model_selection.train_test_split.html"
      ],
      "id": "s75V7mX7lv9G"
    },
    {
      "cell_type": "code",
      "execution_count": null,
      "metadata": {
        "id": "tB-3FF1slv9H"
      },
      "outputs": [],
      "source": [
        "# Separando em treino e teste\n",
        "from sklearn.model_selection import train_test_split\n",
        "X_train, X_test, y_train, y_test = train_test_split(X, y, test_size=0.33, random_state=42)"
      ],
      "id": "tB-3FF1slv9H"
    },
    {
      "cell_type": "markdown",
      "metadata": {
        "id": "Vy0-A0Gnlv9H"
      },
      "source": [
        "- Visualizando graficamente essas informações\n",
        "    - https://matplotlib.org/stable/plot_types/basic/scatter_plot.html#sphx-glr-plot-types-basic-scatter-plot-py"
      ],
      "id": "Vy0-A0Gnlv9H"
    },
    {
      "cell_type": "code",
      "execution_count": null,
      "metadata": {
        "id": "R1UUomfIlv9H",
        "outputId": "3a49f347-b29a-4b85-8f96-b4dec70e4759",
        "colab": {
          "base_uri": "https://localhost:8080/",
          "height": 430
        }
      },
      "outputs": [
        {
          "output_type": "display_data",
          "data": {
            "text/plain": [
              "<Figure size 640x480 with 1 Axes>"
            ],
            "image/png": "[encoded data removed]"
          },
          "metadata": {}
        }
      ],
      "source": [
        "# Visualizando graficamente\n",
        "import matplotlib.pyplot as plt\n",
        "import numpy as np\n",
        "\n",
        "fig, ax = plt.subplots()\n",
        "\n",
        "ax.scatter(X_train['petal length (cm)'], X_train['petal width (cm)'],c=y_train,s=60)\n",
        "\n",
        "plt.show()"
      ],
      "id": "R1UUomfIlv9H"
    },
    {
      "cell_type": "markdown",
      "metadata": {
        "id": "fKOe3m2slv9I"
      },
      "source": [
        "- **Utilizando o SVC**\n",
        "    - https://scikit-learn.org/stable/modules/generated/sklearn.svm.SVC.html#sklearn.svm.SVC"
      ],
      "id": "fKOe3m2slv9I"
    },
    {
      "cell_type": "code",
      "execution_count": null,
      "metadata": {
        "id": "kWAat-58lv9I"
      },
      "outputs": [],
      "source": [
        "# Importando o SVC\n",
        "from sklearn.svm import SVC"
      ],
      "id": "kWAat-58lv9I"
    },
    {
      "cell_type": "code",
      "execution_count": null,
      "metadata": {
        "id": "l-Qf4MDhlv9J"
      },
      "outputs": [],
      "source": [
        "# Criando o classificador e já fazendo o fit com os dados\n",
        "clf = SVC(kernel='linear').fit(X_train,y_train)"
      ],
      "id": "l-Qf4MDhlv9J"
    },
    {
      "cell_type": "code",
      "execution_count": null,
      "metadata": {
        "id": "ngOca2Yrlv9J",
        "outputId": "5b425b9e-69eb-4e65-bc99-08a0712e49ed",
        "colab": {
          "base_uri": "https://localhost:8080/"
        }
      },
      "outputs": [
        {
          "output_type": "execute_result",
          "data": {
            "text/plain": [
              "array([1.1769056 , 0.78337144])"
            ]
          },
          "metadata": {},
          "execution_count": 8
        }
      ],
      "source": [
        "# Visualizando o coef\n",
        "clf.coef_[0]"
      ],
      "id": "ngOca2Yrlv9J"
    },
    {
      "cell_type": "code",
      "execution_count": null,
      "metadata": {
        "id": "vUf2_tGclv9J"
      },
      "outputs": [],
      "source": [
        "# Separando w1\n",
        "w1 = clf.coef_[0][0]"
      ],
      "id": "vUf2_tGclv9J"
    },
    {
      "cell_type": "code",
      "execution_count": null,
      "metadata": {
        "id": "X3Koi_QRlv9J"
      },
      "outputs": [],
      "source": [
        "# e w2\n",
        "w2 = clf.coef_[0][1]"
      ],
      "id": "X3Koi_QRlv9J"
    },
    {
      "cell_type": "code",
      "execution_count": null,
      "metadata": {
        "id": "U8wW-2-_lv9J"
      },
      "outputs": [],
      "source": [
        "# E agora utilizando o intercept_ como w0\n",
        "w0 = clf.intercept_[0]"
      ],
      "id": "U8wW-2-_lv9J"
    },
    {
      "cell_type": "markdown",
      "metadata": {
        "id": "oq_h1pFMlv9J"
      },
      "source": [
        "- Para traçar a reta, podemos considerar que a equação da reta será dada por:\n",
        "    - y = ax + b\n",
        "- Para considerar os dois coeficientes, também podemos escrever como:\n",
        "    - w1.X_train[0] + w2.X_train[1] + w0 = 0\n",
        "    - w1.X_train['petal width (cm)'] + w2.X_train['petal length (cm)'] + w0 = 0\n",
        "    - Sendo x = X_train['petal width (cm)'] e y = X_train['petal length (cm)']:\n",
        "        - w1.x + w2.y + w0 = 0\n",
        "        - w2.y = -w1.x - w0\n",
        "        - y = (-w1.x - w0)/w2"
      ],
      "id": "oq_h1pFMlv9J"
    },
    {
      "cell_type": "code",
      "execution_count": null,
      "metadata": {
        "id": "clJdlKfalv9J",
        "outputId": "1b0435be-237e-471e-917a-1ffc8419aada",
        "colab": {
          "base_uri": "https://localhost:8080/",
          "height": 430
        }
      },
      "outputs": [
        {
          "output_type": "display_data",
          "data": {
            "text/plain": [
              "<Figure size 640x480 with 1 Axes>"
            ],
            "image/png": "[encoded data removed]"
          },
          "metadata": {}
        }
      ],
      "source": [
        "# Traçando essa reta no gráfico\n",
        "fig, ax = plt.subplots()\n",
        "\n",
        "ax.scatter(X_train['petal length (cm)'], X_train['petal width (cm)'],c=y_train,s=60)\n",
        "\n",
        "x = np.linspace(1,5,100)\n",
        "y = (-w1*x-w0)/w2\n",
        "ax.plot(x,y,'r')\n",
        "\n",
        "ax.set(ylim=(0,1.7))\n",
        "\n",
        "plt.show()"
      ],
      "id": "clJdlKfalv9J"
    },
    {
      "cell_type": "code",
      "execution_count": null,
      "metadata": {
        "id": "ChOEVa1wlv9K",
        "outputId": "20d66ab7-c4a2-4620-b21d-46bc6b4ab544",
        "colab": {
          "base_uri": "https://localhost:8080/"
        }
      },
      "outputs": [
        {
          "output_type": "execute_result",
          "data": {
            "text/plain": [
              "array([[1.9, 0.2],\n",
              "       [1.7, 0.5],\n",
              "       [3. , 1.1]])"
            ]
          },
          "metadata": {},
          "execution_count": 13
        }
      ],
      "source": [
        "# Além disso, também podemos ver quais foram os vetores de suporte utilizados para traçar essa reta\n",
        "clf.support_vectors_"
      ],
      "id": "ChOEVa1wlv9K"
    },
    {
      "cell_type": "code",
      "execution_count": null,
      "metadata": {
        "id": "Ba67JHxAlv9K",
        "outputId": "abd9486c-8a33-40dd-e68d-660c508d0699",
        "colab": {
          "base_uri": "https://localhost:8080/"
        }
      },
      "outputs": [
        {
          "output_type": "execute_result",
          "data": {
            "text/plain": [
              "array([1.9, 1.7, 3. ])"
            ]
          },
          "metadata": {},
          "execution_count": 14
        }
      ],
      "source": [
        "# Pegando os valores de x\n",
        "clf.support_vectors_[:,0]"
      ],
      "id": "Ba67JHxAlv9K"
    },
    {
      "cell_type": "code",
      "execution_count": null,
      "metadata": {
        "id": "lUy6pon7lv9K",
        "outputId": "65aa471d-0c78-457a-d085-eea340a0395a",
        "colab": {
          "base_uri": "https://localhost:8080/"
        }
      },
      "outputs": [
        {
          "output_type": "execute_result",
          "data": {
            "text/plain": [
              "array([0.2, 0.5, 1.1])"
            ]
          },
          "metadata": {},
          "execution_count": 15
        }
      ],
      "source": [
        "# E os valores de y\n",
        "clf.support_vectors_[:,1]"
      ],
      "id": "lUy6pon7lv9K"
    },
    {
      "cell_type": "code",
      "execution_count": null,
      "metadata": {
        "id": "PNVbkoDjlv9K",
        "outputId": "e8899a56-c1e5-49ba-d2f2-1a0b519832c7",
        "colab": {
          "base_uri": "https://localhost:8080/",
          "height": 430
        }
      },
      "outputs": [
        {
          "output_type": "display_data",
          "data": {
            "text/plain": [
              "<Figure size 640x480 with 1 Axes>"
            ],
            "image/png": "[encoded data removed]"
          },
          "metadata": {}
        }
      ],
      "source": [
        "# Visualizando esses pontos\n",
        "fig, ax = plt.subplots()\n",
        "\n",
        "ax.scatter(X_train['petal length (cm)'], X_train['petal width (cm)'],c=y_train,s=60)\n",
        "\n",
        "x = np.linspace(1,5,100)\n",
        "y = (-w1*x-w0)/w2\n",
        "ax.plot(x,y,'r')\n",
        "y2 = (+1-w1*x-w0)/w2\n",
        "ax.plot(x,y2,'--r')\n",
        "y3 = (-1-w1*x-w0)/w2\n",
        "ax.plot(x,y3,'--r')\n",
        "\n",
        "ax.scatter(clf.support_vectors_[:,0],clf.support_vectors_[:,1],c='r')\n",
        "\n",
        "ax.set(ylim=(0,1.7))\n",
        "\n",
        "plt.show()"
      ],
      "id": "PNVbkoDjlv9K"
    },
    {
      "cell_type": "markdown",
      "metadata": {
        "id": "-0SS-hlwlv9K"
      },
      "source": [
        "- **Agora podemos usar toda a nossa base de dados**"
      ],
      "id": "-0SS-hlwlv9K"
    },
    {
      "cell_type": "code",
      "execution_count": null,
      "metadata": {
        "id": "ClhPvPzmlv9K"
      },
      "outputs": [],
      "source": [
        "# Importando o dataset\n",
        "X,y = load_iris(return_X_y = True, as_frame=True)"
      ],
      "id": "ClhPvPzmlv9K"
    },
    {
      "cell_type": "code",
      "execution_count": null,
      "metadata": {
        "id": "GHfXY1uolv9L"
      },
      "outputs": [],
      "source": [
        "# Separando em treino e teste\n",
        "X_train,X_test,y_train,y_test = train_test_split(X,y,test_size=0.33,random_state=42)"
      ],
      "id": "GHfXY1uolv9L"
    },
    {
      "cell_type": "code",
      "execution_count": null,
      "metadata": {
        "id": "a8KcWHhclv9L"
      },
      "outputs": [],
      "source": [
        "# Criando o classificador\n",
        "clf2 = SVC().fit(X_train,y_train)"
      ],
      "id": "a8KcWHhclv9L"
    },
    {
      "cell_type": "code",
      "execution_count": null,
      "metadata": {
        "id": "cBjpUHL3lv9L"
      },
      "outputs": [],
      "source": [
        "# Fazendo a previsão\n",
        "y_pred = clf2.predict(X_test)"
      ],
      "id": "cBjpUHL3lv9L"
    },
    {
      "cell_type": "code",
      "execution_count": null,
      "metadata": {
        "id": "K_rfo6gVlv9L",
        "outputId": "f50d27d9-d3ef-4cfe-e08a-2089d3906b31",
        "colab": {
          "base_uri": "https://localhost:8080/"
        }
      },
      "outputs": [
        {
          "output_type": "execute_result",
          "data": {
            "text/plain": [
              "array([[19,  0,  0],\n",
              "       [ 0, 15,  0],\n",
              "       [ 0,  0, 16]])"
            ]
          },
          "metadata": {},
          "execution_count": 21
        }
      ],
      "source": [
        "# E analisando a matriz de confusão\n",
        "from sklearn.metrics import confusion_matrix\n",
        "confusion_matrix(y_test,y_pred)"
      ],
      "id": "K_rfo6gVlv9L"
    }
  ],
  "metadata": {
    "kernelspec": {
      "display_name": "Python 3",
      "language": "python",
      "name": "python3"
    },
    "language_info": {
      "codemirror_mode": {
        "name": "ipython",
        "version": 3
      },
      "file_extension": ".py",
      "mimetype": "text/x-python",
      "name": "python",
      "nbconvert_exporter": "python",
      "pygments_lexer": "ipython3",
      "version": "3.8.5"
    },
    "colab": {
      "provenance": [],
      "include_colab_link": true
    }
  },
  "nbformat": 4,
  "nbformat_minor": 5
}