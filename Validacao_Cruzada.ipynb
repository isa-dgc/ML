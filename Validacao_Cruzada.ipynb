{
  "nbformat": 4,
  "nbformat_minor": 0,
  "metadata": {
    "colab": {
      "provenance": [],
      "authorship_tag": "ABX9TyMT+YizratdnSPvbwZ7gi96",
      "include_colab_link": true
    },
    "kernelspec": {
      "name": "python3",
      "display_name": "Python 3"
    },
    "language_info": {
      "name": "python"
    }
  },
  "cells": [
    {
      "cell_type": "markdown",
      "metadata": {
        "id": "view-in-github",
        "colab_type": "text"
      },
      "source": [
        "<a href=\"https://colab.research.google.com/github/isa-dgc/ML/blob/main/Validacao_Cruzada.ipynb\" target=\"_parent\"><img src=\"https://colab.research.google.com/assets/colab-badge.svg\" alt=\"Open In Colab\"/></a>"
      ]
    },
    {
      "cell_type": "markdown",
      "source": [
        "![image.png](data:image/png;base64,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)"
      ],
      "metadata": {
        "id": "Fbwf7jDA2BeM"
      }
    },
    {
      "cell_type": "markdown",
      "source": [
        "![image.png](data:image/png;base64,iVBORw0KGgoAAAANSUhEUgAAAkEAAADOCAYAAAA5fdaJAAANwElEQVR4nO3dPUxcZ74H4N9cY2W0jjRWUrCVRQEpLCfrGstyDVGiVHS+t4MSmu1cuksDJXS57lJFtsLUlmXqZNdKESgsV5diV56VHREZ69xi+JgZxsOAMR9+n0eyZM6c92PQDPPj/b/nUKuqqgoAQGH+66wnAABwFoQgAKBIQhAAUCQhCAAokhAEABRJCAIAiiQEAQBFEoIAgCIJQQBAkYQgAKBIQhAAUCQhCAAokhAEABRJCIJzrPlkM7UnW2c9DYCP0shZTwAutq3MPWhl5Z2P17N6t5GpU5zRSWg+2cz0856DVz/N+jdXMn4mMwI4eUIQvJd6lu/Ws7zzVfPJZqbTSHW7fqazOhFdoWc7S4/+lYkHf2bx288y3xiyjxet1B6/PVqb93UWYwIXknIYMISRzH/zeRavvsnCP5TngI+DlSA4JRv//Hcmfnmzf2Ds4IpRVxlqrJHVY/ZzEm0OGsn83+pZePxHlr6q76yy9JQDO1aPOsdceLiZhSSzd0azfG1wuyRJ63VuPXyVtZ0v99u1dZfr9kuOg8cE6CYEwSlofzhfyurdz3b2B7VDQC3ZCyPtD/b9D/S9D/qxo/VznLGH1hjJZLbyWytJYztLj/7I9W9HUzWSvZLZk0upbtcz/uVnqRr9SlOD2yVbmXv4KjfujObpbmB69Dob19ohaa/keLfj+/ZopB2i3jkmwEHKYfDBbeX7X95k9k7nBul6lu/Uk+d/ZKnVPuen58nkzSt750zdHs3q2FH7Oc7YxzWS+W86g8ZIvria5OXbbLxPu9bbPOs6v57l3VWi1uvcf345i1/th7eprz7N5Ms/8/N7PRegRFaC4ENrvc2zXM5M76pE56pK2h/8NxoD3pLD9NP72HHaHOpyru+16XN13NVh+hjQrnEl98ZeZfrxZlZyuXtFp7WdtbzJ2k6pq3NOM0d9GkDxhCBgeK3trOVS7nXsB3p28/NUX7Z/lDSfbGb65WGdHN5u6vZoqts7xx9uZqFrz9BlpS7gRCiHwal4s7Pi06G1nbXU8921JI1LuXES/ZxYm362s/TrVjL2Sbu09uLPrORyZq4N+F2qMZLJ3mPDtNsxdXs01befZvLlq3z/Yre/Ps/nsDEB+hCC4ENrXMm9sWTlcSvNvYNbmXvcEShSz3c95xy4YeFQ/Rxn7GG0Ny8vvKxndXczdW8gedE6eIPFJAdC2GHtXrS675Ld2s7abgmu8UlmriYrv77u2HfUXllqptMhQQkgSa2qquqsJwEfi0E3S+wNNZM3P8/TLztXQ3aDxv7jP+Q/mXj5l67+Du/nHfM6Qpu+d4zuc1l996X39SzefJuF5590Xe7e2dfu5eqHtesdv/sy9+7vU7/yWL8xAXoJQQBAkZTDAIAiCUEAQJGEIACgSEIQAFAkIQgAKNKR7xhde7D5IeYBAJyC6u7oWU/h3LASBAAUSQgCAIokBAEARRKCAIAiCUEAQJGEIACgSEIQAFAkIQgAKJIQBAAUSQgCAIokBAEARRKCAIAiCUEAQJGEIACgSEIQAFAkIQgAKJIQBAAUSQgCAIokBAEARRKCAIAiCUEAQJGEIACgSEIQAFAkIQgAKJIQBAAUSQgCAIokBAEARRKCAIAiCUEAQJGEIACgSEIQAFAkIQgAKJIQBAAUSQgCAIokBAEARapVVVWd9SQAAE6blSAAoEhCEABQJCEIACiSEAQAFEkIAgCKJAQBAEUSggCAIglBAECRhCAAoEhCEABQJCEIACiSEAQAFEkIAgCKJAQBAEUSggCAIglBAECRhCAAoEhCEABQJCEIACiSEAQAFEkIAgCKJAQBAEUSggCAIglBAECRhCAAoEhCEABQJCEIACiSEAQAFEkIAgCKJAQBAEUSggCAIglBAECRhCAAoEhCEABQJCEIACiSEAQAFEkIAgCKJATBOdZ8spnak62zngbAR2nkrCcAF9tW5h60svLOx+tZvdvI1CnO6CQ0n2xm+nnPwaufZv2bKxk/kxkBnDwhCN5LPct361ne+ar5ZDPTaaS6XT/TWZ2IrtCznaVH/8rEgz+z+O1nmW8M2ceLVmqP3x6tzfs6izGBC0k5DBjCSOa/+TyLV99k4R/Kc8DHwUoQnJKNf/47E7+82T8wdnDFqKsMNdbI6jH7OYk2B41k/m/1LDz+I0tf1XdWWXrKgR2rR51jLjzczEKS2TujWb42uF2SpPU6tx6+ytrOl/vt2rrLdfslx8FjAnQTguAUtD+cL2X17mc7+4PaIaCW7IWR9gf7/gf63gf92NH6Oc7YQ2uMZDJb+a2VpLGdpUd/5Pq3o6kayV7J7MmlVLfrGf/ys1SNfqWpwe2Srcw9fJUbd0bzdDcwPXqdjWvtkLRXcrzb8X17NNIOUe8cE+Ag5TD44Lby/S9vMnunc4N0Pct36snzP7LUap/z0/Nk8uaVvXOmbo9mdeyo/Rxn7OMayfw3nUFjJF9cTfLybTbep13rbZ51nV/P8u4qUet17j+/nMWv9sPb1FefZvLln/n5vZ4LUCIrQfChtd7mWS5npndVonNVJe0P/huNAW/JYfrpfew4bQ51Odf32vS5Ou7qMH0MaNe4kntjrzL9eDMrudy9otPazlreZG2n1NU5p5mjPg2geEIQMLzWdtZyKfc69gM9u/l5qi/bP0qaTzYz/fKwTg5vN3V7NNXtneMPN7PQtWfoslIXcCKUw+BUvNlZ8enQ2s5a6vnuWpLGpdw4iX5OrE0/21n6dSsZ+6RdWnvxZ1ZyOTPXBvwu1RjJZO+xYdrtmLo9murbTzP58lW+f7HbX5/nc9iYAH0IQfChNa7k3liy8riV5t7Brcw97ggUqee7nnMO3LBwqH6OM/Yw2puXF17Ws7q7mbo3kLxoHbzBYpIDIeywdi9a3XfJbm1nbbcE1/gkM1eTlV9fd+w7aq8sNdPpkKAEkKRWVVV11pOAj8WgmyX2hprJm5/n6ZedqyG7QWP/8R/yn0y8/EtXf4f38455HaFN3ztG97msvvvS+3oWb77NwvNPui537+xr93L1w9r1jt99mXv396lfeazfmAC9hCAAoEjKYQBAkYQgAKBIQhAAUCQhCAAokhAEABRJCAIAiiQEAQBFEoIAgCIJQQBAkYQgAKBIQhAAUKTBf3URzlitVtv7vz9zB8BJshLEudUZgPp9DQDvw0oQwAdgFRPOPytBACfMKiZcDEIQAFAkIQgAKJIQBAAUSQgCAIokBAEARRKCAIAiDbxPUO3B5mnNA4biNclF5bXLWajujp71FM41K0EAQJGEIACgSEIQAFAkIQgAKJIQBAAUSQgCAIokBAEARRKCAIAiCUEAQJGEIACgSEIQAFAkIQgAON82lnKrVkvt1lI2kqQ5l9pc8727FYIAoHgbWbpVO5Fg8SE0v19IFtezPvNj/mdpIxu/PzuRfoUgAOCg5lxqtVtZ2jjribTd+GI84/M/ZObHiUwsJIt/n3rvPkdOYF4AwIU2nvmnVebPehrvMLVcpR15TnaeVoIAgDTn9sthG0u3UpteSbKWhYlaarVaOitlzbn2sfa/uTR7+rm1tLF/zl7DZuZqHe129/f0zqFvv4e33Vi61dF2uNKeEAQAdBmff5pqdTbJZBbXq1RVleWd6lNzrpbprKaq2sdXZ1cy3RNK1hYmcv/6evuc5am09xzdz/WdvqpqPYtZyERHUGnO1TL9bDHrO/1Wq8n9pY2h2m4s3crEwo2s7ratVjO7Mn1oEBKCAIDhbCzl/spk136cqb8vZnLtx/zcmYImF/PD/HjHgfHMP32a/UPj+eJGkme/t8PTxlLurySz9+azd8rUcp7Ojx/eNs18v7CW2dXldMwqy6uzycr9gXuahCAAYDjrv2Wto0RWq9VSm1jIWu95N77I+IHG3SWt6ZXefidzfeJdAw9ou/F7nvVrO3E9k1nLb+vvfjpCEABwBPslsv1/nSs1/TQzV5vOs8X1jjLasOO9T9vBhCAA4KCJ65nse2zw6kpfzZ+yksnMfP2OpDSo38PaJkm/tuu/ZS2z+W7AlfRCEADwDj3hYvzrzEwmK/c7N0I3M9dzhdgBvSGnOddd0urX7+5doQ9tO597s8nKdM/VZNMryex3GXQ3ISEIADhoL1x0XiI/nvmnO1dn7e3RuZ/r68sDw0bG5/PD4uReX7XpZHGxc52pT7/Tyery1BBt2/cRWp1dyfTenHbKZ8uDb6hYq6qqeueDDzYP/R7BB/Pffz147H//7/TnAUfltcs5Ud0dPespHNnG0q1M/Hbv0ABzEqwEAQDnxvjXM5lc+Wlwee2E+LMZAMA50L4KbCVJZlcHl9dOiBAEAJwDU1muqiyf4ojKYQBAkYQgAKBIQhAAUCQhCAAokhAEABRJCAIAiiQEAQBFEoIAgCIN/NthcJZqtdqBY16uXAReu3AxWAkCAIokBAEARRKCAIAiCUEAQJGEIM6t3o2kNpZyUXjtwsXg6jAAoEhWggCAIglBAECRhCAAoEhCEABQJCEIACiSEAQAFGnkrCcAH1q/P2YJx3FadxTxmuWkuAvOYANDkDciJ8UbEYDzRjkMACiSEAQAFEkIAgCKZGM0Hz37kbhovGbhdAwMQd6IAMDHSjkMACiSEAQAFEkIAgCKJAQBAEUSggCAIglBAECRhCAAoEhCEABQJHeMBuBCqdVqQ53nhr8cRggagjccwPkw7M/j3XP9XGaQ/wdpOYcdxBUKZAAAAABJRU5ErkJggg==)"
      ],
      "metadata": {
        "id": "X0HrFcx02GGJ"
      }
    },
    {
      "cell_type": "markdown",
      "source": [
        "![image.png](data:image/png;base64,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)"
      ],
      "metadata": {
        "id": "BrmqCdQk2MkV"
      }
    },
    {
      "cell_type": "markdown",
      "source": [
        "Validação Cruzada é uma técnica que pode ser utilizada para avaliar a performance de um modelo com menos variância que a técnica de dividir os dados em treino e teste.\n",
        "\n",
        "Os dados são separados em partes (k-folds) e cada fold é utilizado no treinamento de forma repetida, no final, a performance resumida é feita usando a média e o desvio padrão em cada fold.\n",
        "\n",
        "Logo, a confiabilidade do resultado é maior, assim como aumenta a acurácia do modelo.\n",
        "\n",
        "O detalhe dessa técnica é em definir o valor correto de k, para ser adequado para o número de repetições necesárias."
      ],
      "metadata": {
        "id": "hCVlo0Og3jrH"
      }
    },
    {
      "cell_type": "markdown",
      "source": [
        "# Normal"
      ],
      "metadata": {
        "id": "dEzglp9WKfQP"
      }
    },
    {
      "cell_type": "code",
      "source": [
        "#https://www.kaggle.com/datasets/uciml/pima-indians-diabetes-database\n",
        "\n",
        "from pandas import read_csv\n",
        "from sklearn.model_selection import train_test_split\n",
        "from sklearn.model_selection import KFold\n",
        "from sklearn.model_selection import cross_val_score\n",
        "from sklearn.linear_model import LogisticRegression\n",
        "\n",
        "%matplotlib inline\n",
        "import warnings\n",
        "warnings.filterwarnings('ignore')"
      ],
      "metadata": {
        "id": "nyYCTKMF2aok"
      },
      "execution_count": null,
      "outputs": []
    },
    {
      "cell_type": "code",
      "source": [
        "arquivo = 'diabetes.csv'\n",
        "colunas = ['Pregnancies', 'Glucose','BloodPressure', 'SkinThickness', 'Insulin', 'BMI', 'DiabetesPedigreeFunction', 'Age', 'Outcome']\n",
        "dados = read_csv(arquivo, names = colunas)\n",
        "array = dados.values\n",
        "array"
      ],
      "metadata": {
        "colab": {
          "base_uri": "https://localhost:8080/"
        },
        "id": "ZIJimQ55DdF0",
        "outputId": "08ea896d-f2cb-43a8-d000-415c24c3e0c3"
      },
      "execution_count": null,
      "outputs": [
        {
          "output_type": "execute_result",
          "data": {
            "text/plain": [
              "array([['Pregnancies', 'Glucose', 'BloodPressure', ...,\n",
              "        'DiabetesPedigreeFunction', 'Age', 'Outcome'],\n",
              "       ['6', '148', '72', ..., '0.627', '50', '1'],\n",
              "       ['1', '85', '66', ..., '0.351', '31', '0'],\n",
              "       ...,\n",
              "       ['5', '121', '72', ..., '0.245', '30', '0'],\n",
              "       ['1', '126', '60', ..., '0.349', '47', '1'],\n",
              "       ['1', '93', '70', ..., '0.315', '23', '0']], dtype=object)"
            ]
          },
          "metadata": {},
          "execution_count": 2
        }
      ]
    },
    {
      "cell_type": "code",
      "source": [
        "X = array[1:,0:8]\n",
        "Y = array[1:,8]\n",
        "\n",
        "X_treino, X_teste, Y_treino, Y_teste = train_test_split(X,Y,test_size=0.3,random_state = 45)"
      ],
      "metadata": {
        "id": "r9jCwU2_H_AF"
      },
      "execution_count": null,
      "outputs": []
    },
    {
      "cell_type": "code",
      "source": [
        "modelo = LogisticRegression()\n",
        "modelo.fit(X_treino,Y_treino)\n",
        "result = modelo.score(X_teste,Y_teste)\n",
        "print(\"Acurácia nos Dados de Teste: %.3f%%\" % (result * 100.0))"
      ],
      "metadata": {
        "colab": {
          "base_uri": "https://localhost:8080/"
        },
        "id": "riDTFbBmIcL1",
        "outputId": "e1f0be56-fdcb-4238-a33c-39e3549f053c"
      },
      "execution_count": null,
      "outputs": [
        {
          "output_type": "stream",
          "name": "stdout",
          "text": [
            "Acurácia nos Dados de Teste: 72.727%\n"
          ]
        }
      ]
    },
    {
      "cell_type": "markdown",
      "source": [
        "# Validaçao"
      ],
      "metadata": {
        "id": "RzYGwVpKKiBM"
      }
    },
    {
      "cell_type": "code",
      "source": [
        "from pandas import read_csv\n",
        "from sklearn.model_selection import train_test_split\n",
        "from sklearn.model_selection import KFold\n",
        "from sklearn.model_selection import cross_val_score\n",
        "from sklearn.linear_model import LogisticRegression\n",
        "\n",
        "%matplotlib inline\n",
        "import warnings\n",
        "warnings.filterwarnings('ignore')"
      ],
      "metadata": {
        "id": "0TJvZYxLKbv4"
      },
      "execution_count": null,
      "outputs": []
    },
    {
      "cell_type": "code",
      "source": [
        "arquivo = 'diabetes.csv'\n",
        "colunas = ['Pregnancies', 'Glucose','BloodPressure', 'SkinThickness', 'Insulin', 'BMI', 'DiabetesPedigreeFunction', 'Age', 'Outcome']\n",
        "dados = read_csv(arquivo, names = colunas)\n",
        "array = dados.values\n",
        "array"
      ],
      "metadata": {
        "colab": {
          "base_uri": "https://localhost:8080/"
        },
        "id": "b1dVgc_jKmti",
        "outputId": "b8ff9c30-475f-4a12-831f-2b61bf6acf69"
      },
      "execution_count": null,
      "outputs": [
        {
          "output_type": "execute_result",
          "data": {
            "text/plain": [
              "array([['Pregnancies', 'Glucose', 'BloodPressure', ...,\n",
              "        'DiabetesPedigreeFunction', 'Age', 'Outcome'],\n",
              "       ['6', '148', '72', ..., '0.627', '50', '1'],\n",
              "       ['1', '85', '66', ..., '0.351', '31', '0'],\n",
              "       ...,\n",
              "       ['5', '121', '72', ..., '0.245', '30', '0'],\n",
              "       ['1', '126', '60', ..., '0.349', '47', '1'],\n",
              "       ['1', '93', '70', ..., '0.315', '23', '0']], dtype=object)"
            ]
          },
          "metadata": {},
          "execution_count": 6
        }
      ]
    },
    {
      "cell_type": "code",
      "source": [
        "X = array[1:,0:8]\n",
        "Y = array[1:,8]"
      ],
      "metadata": {
        "id": "s1FJESPdKqyH"
      },
      "execution_count": null,
      "outputs": []
    },
    {
      "cell_type": "code",
      "source": [
        "num_folds = 100\n",
        "\n",
        "kfold = KFold(num_folds, shuffle = True, random_state = 45)\n",
        "\n",
        "modelo_1 = LogisticRegression()\n",
        "resultado = cross_val_score(modelo_1,X,Y, cv=kfold)\n",
        "\n",
        "print(\"Acurácia Final: %.3f%%\" % (resultado.mean() * 100.0))"
      ],
      "metadata": {
        "colab": {
          "base_uri": "https://localhost:8080/"
        },
        "id": "K9GULaGwLWYk",
        "outputId": "025d5824-fcd9-4a17-d5a0-3a37b680bd6d"
      },
      "execution_count": null,
      "outputs": [
        {
          "output_type": "stream",
          "name": "stdout",
          "text": [
            "Acurácia Final: 77.875%\n"
          ]
        }
      ]
    }
  ]
}