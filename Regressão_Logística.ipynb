{
  "cells": [
    {
      "cell_type": "markdown",
      "metadata": {
        "id": "view-in-github",
        "colab_type": "text"
      },
      "source": [
        "<a href=\"https://colab.research.google.com/github/isa-dgc/ML/blob/main/Regress%C3%A3o_Log%C3%ADstica.ipynb\" target=\"_parent\"><img src=\"https://colab.research.google.com/assets/colab-badge.svg\" alt=\"Open In Colab\"/></a>"
      ]
    },
    {
      "cell_type": "markdown",
      "metadata": {
        "id": "zOAuW0wIoNdL"
      },
      "source": [
        "# A Regressão Logística\n",
        "- É um modelo linear para **classificação** usando uma função dada por:\n",
        "<img src=\"https://drive.google.com/uc?id=1YXiCkxBJ0vf8WQRjLgiw6uI-Xp2T56cZ\" style='width: 300px;' />\n",
        "- Onde, **para calcular s, usa os mesmos conceitos da regressão linear (coef, intercept)**\n",
        "<br><br>\n",
        "- Na regressão logística, ao invés de determinar um valor 0 ou 1 para a classe, ela retorna **a probabilidade de um evento ocorrer**\n",
        "    - É muito usado em problemas de classificação de crédito e até probabilidade de doenças\n",
        "<br><br>\n",
        "- Considerando uma única variável (petal width (cm)) para fazer a previsão do dataset iris:\n",
        "<img src=\"https://drive.google.com/uc?id=1aSA66H2y8tiS2oVDz05BHgUhM218DcnL\" style='width: 600px;' />\n",
        "- Com isso, podemos fazer a previsão para qualquer novo valor\n",
        "<img src=\"https://drive.google.com/uc?id=1lIvPbsn2PD0fPe-6m-HZnItzVh_gM0Oj\" style='width: 2000px;' />"
      ],
      "id": "zOAuW0wIoNdL"
    },
    {
      "cell_type": "markdown",
      "metadata": {
        "id": "1s_8XBovoNdN"
      },
      "source": [
        "- **Para começar, podemos já usar o dataset iris**\n",
        "    - https://scikit-learn.org/stable/modules/generated/sklearn.datasets.load_iris.html#sklearn.datasets.load_iris"
      ],
      "id": "1s_8XBovoNdN"
    },
    {
      "cell_type": "code",
      "execution_count": null,
      "metadata": {
        "id": "i_WwlOj7oNdN"
      },
      "outputs": [],
      "source": [
        "# Importando o dataset\n",
        "from sklearn.datasets import load_iris\n",
        "X,y = load_iris(return_X_y = True, as_frame=True)"
      ],
      "id": "i_WwlOj7oNdN"
    },
    {
      "cell_type": "code",
      "execution_count": null,
      "metadata": {
        "id": "Uai6U1d7oNdO"
      },
      "outputs": [],
      "source": [
        "# Considerando apenas a coluna 'petal width (cm)' e os targets 0 e 1\n",
        "X = X.loc[y.isin([0,1]),'petal width (cm)'].values\n",
        "y = y[y.isin([0,1])].values"
      ],
      "id": "Uai6U1d7oNdO"
    },
    {
      "cell_type": "markdown",
      "metadata": {
        "id": "DonIrMIFoNdO"
      },
      "source": [
        "- E separar em treino e teste\n",
        "    - https://scikit-learn.org/stable/modules/generated/sklearn.model_selection.train_test_split.html"
      ],
      "id": "DonIrMIFoNdO"
    },
    {
      "cell_type": "code",
      "execution_count": null,
      "metadata": {
        "id": "xvCkVxDtoNdO"
      },
      "outputs": [],
      "source": [
        "# Separando em treino e teste\n",
        "from sklearn.model_selection import train_test_split\n",
        "X_train, X_test, y_train, y_test = train_test_split(X, y, test_size=0.33, random_state=42)"
      ],
      "id": "xvCkVxDtoNdO"
    },
    {
      "cell_type": "markdown",
      "metadata": {
        "id": "bysG8WL0oNdO"
      },
      "source": [
        "- Visualizando graficamente a relação do petal width (cm) com a classe\n",
        "    - https://matplotlib.org/stable/plot_types/basic/scatter_plot.html#sphx-glr-plot-types-basic-scatter-plot-py"
      ],
      "id": "bysG8WL0oNdO"
    },
    {
      "cell_type": "code",
      "execution_count": null,
      "metadata": {
        "id": "BPbVXN_voNdO",
        "outputId": "85b27792-ec7c-49aa-f4ae-f744a438f029",
        "colab": {
          "base_uri": "https://localhost:8080/",
          "height": 430
        }
      },
      "outputs": [
        {
          "output_type": "display_data",
          "data": {
            "text/plain": [
              "<Figure size 640x480 with 1 Axes>"
            ],
            "image/png": "[encoded data removed]"
          },
          "metadata": {}
        }
      ],
      "source": [
        "# Visualizando graficamente\n",
        "import matplotlib.pyplot as plt\n",
        "\n",
        "fig, ax = plt.subplots()\n",
        "\n",
        "ax.scatter(X_train, y_train)\n",
        "\n",
        "ax.set(yticks=[0,1],xticks=[0,0.3,0.6,0.9,1.2,1.5])\n",
        "\n",
        "plt.show()"
      ],
      "id": "BPbVXN_voNdO"
    },
    {
      "cell_type": "markdown",
      "metadata": {
        "id": "Prx7Dks6oNdP"
      },
      "source": [
        "- **Utilizando a regressão logística**\n",
        "    - https://scikit-learn.org/stable/modules/generated/sklearn.linear_model.LogisticRegression.html#sklearn.linear_model.LogisticRegression"
      ],
      "id": "Prx7Dks6oNdP"
    },
    {
      "cell_type": "code",
      "execution_count": null,
      "metadata": {
        "id": "V9o29hAOoNdP"
      },
      "outputs": [],
      "source": [
        "# Importando a regressão logística\n",
        "from sklearn.linear_model import LogisticRegression"
      ],
      "id": "V9o29hAOoNdP"
    },
    {
      "cell_type": "code",
      "execution_count": null,
      "metadata": {
        "id": "aSTuTzPVoNdP"
      },
      "outputs": [],
      "source": [
        "# Criando o nosso classificador\n",
        "clf = LogisticRegression(random_state=0).fit(X_train.reshape(-1, 1), y_train)"
      ],
      "id": "aSTuTzPVoNdP"
    },
    {
      "cell_type": "code",
      "execution_count": null,
      "metadata": {
        "id": "BfNcu6kJoNdP"
      },
      "outputs": [],
      "source": [
        "# Verificando o coeficiente angular\n",
        "w1 = clf.coef_[0][0]"
      ],
      "id": "BfNcu6kJoNdP"
    },
    {
      "cell_type": "code",
      "execution_count": null,
      "metadata": {
        "id": "8M3gN51JoNdP"
      },
      "outputs": [],
      "source": [
        "# E o coeficiente linear\n",
        "w0 = clf.intercept_[0]"
      ],
      "id": "8M3gN51JoNdP"
    },
    {
      "cell_type": "markdown",
      "metadata": {
        "id": "BwQS7RH8oNdQ"
      },
      "source": [
        "- Para traçar esse gráfico, já temos a função `expit` do scipy\n",
        "    - https://docs.scipy.org/doc/scipy/reference/generated/scipy.special.expit.html\n",
        "    - `expit(x) = 1/(1+exp(-x))`"
      ],
      "id": "BwQS7RH8oNdQ"
    },
    {
      "cell_type": "code",
      "execution_count": null,
      "metadata": {
        "id": "wEhANCEToNdQ"
      },
      "outputs": [],
      "source": [
        "# Importando o expit\n",
        "from scipy.special import expit"
      ],
      "id": "wEhANCEToNdQ"
    },
    {
      "cell_type": "code",
      "execution_count": null,
      "metadata": {
        "id": "W2w9VO6LoNdQ"
      },
      "outputs": [],
      "source": [
        "# Importando o numpy e criando um array de 0 a 2\n",
        "import numpy as np\n",
        "valores_x = np.linspace(X_train.min(),X_train.max(),100)\n",
        "# valores_x"
      ],
      "id": "W2w9VO6LoNdQ"
    },
    {
      "cell_type": "markdown",
      "metadata": {
        "id": "cmQQNEGqoNdQ"
      },
      "source": [
        "- Para o caso binário, podemos calcular a curva em função do coef_ e do intercept_ fazendo `expit(x*w1+w0)`\n",
        "    - https://scikit-learn.org/stable/modules/linear_model.html#binary-case"
      ],
      "id": "cmQQNEGqoNdQ"
    },
    {
      "cell_type": "code",
      "execution_count": null,
      "metadata": {
        "id": "R2M1oMcxoNdQ"
      },
      "outputs": [],
      "source": [
        "# Calculando o valor para cada valor de y\n",
        "valores_y = expit(w1*valores_x+w0)"
      ],
      "id": "R2M1oMcxoNdQ"
    },
    {
      "cell_type": "code",
      "execution_count": null,
      "metadata": {
        "id": "ivmrYFBeoNdQ",
        "outputId": "7dcfd617-e8dd-4173-e507-587ffdabd11b",
        "colab": {
          "base_uri": "https://localhost:8080/",
          "height": 430
        }
      },
      "outputs": [
        {
          "output_type": "display_data",
          "data": {
            "text/plain": [
              "<Figure size 640x480 with 1 Axes>"
            ],
            "image/png": "[encoded data removed]"
          },
          "metadata": {}
        }
      ],
      "source": [
        "# Visualizando graficamente\n",
        "fig, ax = plt.subplots()\n",
        "\n",
        "ax.scatter(X_train, y_train)\n",
        "ax.plot(valores_x,valores_y)\n",
        "\n",
        "ax.set(yticks=[0,1],xticks=[0,0.3,0.6,0.9,1.2,1.5])\n",
        "\n",
        "plt.show()"
      ],
      "id": "ivmrYFBeoNdQ"
    },
    {
      "cell_type": "code",
      "execution_count": null,
      "metadata": {
        "id": "q2j9mxdqoNdQ"
      },
      "outputs": [],
      "source": [
        "# Podemos exibir os dados de treino em cima dessa curva\n",
        "y_curva = expit(w1*X_train+w0)"
      ],
      "id": "q2j9mxdqoNdQ"
    },
    {
      "cell_type": "code",
      "execution_count": null,
      "metadata": {
        "id": "0xqjEKZVoNdR",
        "outputId": "a609851a-348e-4416-aa13-9c747bd9f8d4",
        "colab": {
          "base_uri": "https://localhost:8080/",
          "height": 430
        }
      },
      "outputs": [
        {
          "output_type": "display_data",
          "data": {
            "text/plain": [
              "<Figure size 640x480 with 1 Axes>"
            ],
            "image/png": "[encoded data removed]"
          },
          "metadata": {}
        }
      ],
      "source": [
        "# Visualizando graficamente\n",
        "fig, ax = plt.subplots()\n",
        "\n",
        "ax.scatter(X_train, y_train)\n",
        "ax.plot(valores_x,valores_y)\n",
        "ax.scatter(X_train, y_curva)\n",
        "\n",
        "ax.axhline(y=0.5,c='m',linestyle='--')\n",
        "\n",
        "ax.plot([0.1,0.1],[0,0.07883025],'--g')\n",
        "ax.plot([0.2,0.2],[0,0.11156652],'--g')\n",
        "ax.plot([0.3,0.3],[0,0.15560101],'--g')\n",
        "ax.plot([0.4,0.4],[0,0.21285167],'--g')\n",
        "ax.plot([0.5,0.5],[0,0.28408003],'--g')\n",
        "ax.plot([0.6,0.6],[0,0.36800066],'--g')\n",
        "ax.plot([1,1],[0.72972574,1],'--g')\n",
        "ax.plot([1.1,1.1],[0.79846697,1],'--g')\n",
        "ax.plot([1.2,1.2],[0.85324086,1],'--g')\n",
        "ax.plot([1.3,1.3],[0.89508404,1],'--g')\n",
        "ax.plot([1.4,1.4],[0.92603135,1],'--g')\n",
        "ax.plot([1.5,1.5],[0.94837655,1],'--g')\n",
        "ax.plot([1.6,1.6],[0.96423221,1],'--g')\n",
        "\n",
        "ax.set(yticks=[0,1],xticks=[0,0.3,0.6,0.9,1.2,1.5])\n",
        "\n",
        "plt.show()"
      ],
      "id": "0xqjEKZVoNdR"
    },
    {
      "cell_type": "code",
      "execution_count": null,
      "metadata": {
        "id": "2BMnSx9JoNdR",
        "outputId": "96e8870f-1541-4796-d559-6dce1a2812bf",
        "colab": {
          "base_uri": "https://localhost:8080/"
        }
      },
      "outputs": [
        {
          "output_type": "execute_result",
          "data": {
            "text/plain": [
              "array([[0.88718204, 0.11281796],\n",
              "       [0.26530911, 0.73469089],\n",
              "       [0.78449692, 0.21550308],\n",
              "       [0.05001742, 0.94998258],\n",
              "       [0.07182627, 0.92817373]])"
            ]
          },
          "metadata": {},
          "execution_count": 15
        }
      ],
      "source": [
        "# Fazendo a previsão das probabilidades\n",
        "clf.predict_proba(X_train.reshape(-1,1))[0:5]"
      ],
      "id": "2BMnSx9JoNdR"
    },
    {
      "cell_type": "code",
      "execution_count": null,
      "metadata": {
        "id": "3FIAuYMIoNdR",
        "outputId": "5d531e0b-9869-41e3-a364-16632827939d",
        "colab": {
          "base_uri": "https://localhost:8080/"
        }
      },
      "outputs": [
        {
          "output_type": "execute_result",
          "data": {
            "text/plain": [
              "array([0.2, 1. , 0.4, 1.5, 1.4])"
            ]
          },
          "metadata": {},
          "execution_count": 16
        }
      ],
      "source": [
        "# Verificando o X_train\n",
        "X_train[0:5]"
      ],
      "id": "3FIAuYMIoNdR"
    },
    {
      "cell_type": "code",
      "execution_count": null,
      "metadata": {
        "id": "rSbMYIOAoNdR",
        "outputId": "2e29adf3-039b-4e51-f4c7-2a9ca18b246c",
        "colab": {
          "base_uri": "https://localhost:8080/"
        }
      },
      "outputs": [
        {
          "output_type": "execute_result",
          "data": {
            "text/plain": [
              "array([0, 1, 0, 1, 1])"
            ]
          },
          "metadata": {},
          "execution_count": 17
        }
      ],
      "source": [
        "# e o y_train\n",
        "y_train[0:5]"
      ],
      "id": "rSbMYIOAoNdR"
    },
    {
      "cell_type": "markdown",
      "metadata": {
        "id": "jFNhaz3OoNdR"
      },
      "source": [
        "- **Utilizando essa previsão na base de teste**"
      ],
      "id": "jFNhaz3OoNdR"
    },
    {
      "cell_type": "code",
      "execution_count": null,
      "metadata": {
        "id": "jw596U-ooNdR"
      },
      "outputs": [],
      "source": [
        "# Verificando a previsão da probabilidade\n",
        "y_pred = clf.predict_proba(X_test.reshape(-1,1))"
      ],
      "id": "jw596U-ooNdR"
    },
    {
      "cell_type": "code",
      "execution_count": null,
      "metadata": {
        "id": "LgjW-TMBoNdR",
        "outputId": "363489ff-fcd2-4c58-da80-5b4d55d0bf7f",
        "colab": {
          "base_uri": "https://localhost:8080/"
        }
      },
      "outputs": [
        {
          "output_type": "execute_result",
          "data": {
            "text/plain": [
              "array([0.96541627, 0.89787791, 0.98368761, 0.15747043, 0.21550308,\n",
              "       0.11281796, 0.11281796, 0.80276369, 0.11281796, 0.11281796,\n",
              "       0.15747043, 0.11281796, 0.85677536, 0.11281796, 0.85677536,\n",
              "       0.11281796, 0.92817373, 0.97620691, 0.07963048, 0.21550308,\n",
              "       0.89787791, 0.89787791, 0.21550308, 0.11281796, 0.80276369,\n",
              "       0.21550308, 0.15747043, 0.89787791, 0.07963048, 0.94998258,\n",
              "       0.11281796, 0.11281796, 0.96541627])"
            ]
          },
          "metadata": {},
          "execution_count": 19
        }
      ],
      "source": [
        "y_pred[:,1]"
      ],
      "id": "LgjW-TMBoNdR"
    },
    {
      "cell_type": "code",
      "execution_count": null,
      "metadata": {
        "id": "DNuECqzboNdS",
        "outputId": "e514f368-def7-47d0-e1a2-baf0f600745d",
        "colab": {
          "base_uri": "https://localhost:8080/",
          "height": 430
        }
      },
      "outputs": [
        {
          "output_type": "display_data",
          "data": {
            "text/plain": [
              "<Figure size 640x480 with 1 Axes>"
            ],
            "image/png": "[encoded data removed]"
          },
          "metadata": {}
        }
      ],
      "source": [
        "# Verificando graficamente\n",
        "fig, ax = plt.subplots()\n",
        "\n",
        "ax.scatter(X_train, y_train)\n",
        "ax.plot(valores_x,valores_y)\n",
        "ax.scatter(X_test,y_pred[:,1])\n",
        "\n",
        "ax.set(yticks=[0,1],xticks=[0,0.3,0.6,0.9,1.2,1.5])\n",
        "\n",
        "plt.show()"
      ],
      "id": "DNuECqzboNdS"
    },
    {
      "cell_type": "code",
      "execution_count": null,
      "metadata": {
        "id": "Br0gA8xioNdS",
        "colab": {
          "base_uri": "https://localhost:8080/"
        },
        "outputId": "ce2de583-1012-49be-95c5-dc299214f173"
      },
      "outputs": [
        {
          "output_type": "execute_result",
          "data": {
            "text/plain": [
              "array([1, 1, 1, 0, 0, 0, 0, 1, 0, 0, 0, 0, 1, 0, 1, 0, 1, 1, 0, 0, 1, 1,\n",
              "       0, 0, 1, 0, 0, 1, 0, 1, 0, 0, 1])"
            ]
          },
          "metadata": {},
          "execution_count": 21
        }
      ],
      "source": [
        "# E apenas a previsão\n",
        "y_pred_valor = clf.predict(X_test.reshape(-1,1))\n",
        "y_pred_valor"
      ],
      "id": "Br0gA8xioNdS"
    },
    {
      "cell_type": "code",
      "execution_count": null,
      "metadata": {
        "id": "L2RJ3lFpoNdS",
        "outputId": "646af513-81e8-4740-ce8c-50f57a7dd2d4",
        "colab": {
          "base_uri": "https://localhost:8080/"
        }
      },
      "outputs": [
        {
          "output_type": "execute_result",
          "data": {
            "text/plain": [
              "array([[19,  0],\n",
              "       [ 0, 14]])"
            ]
          },
          "metadata": {},
          "execution_count": 22
        }
      ],
      "source": [
        "# Avaliando o erro\n",
        "from sklearn.metrics import confusion_matrix\n",
        "confusion_matrix(y_test,y_pred_valor)"
      ],
      "id": "L2RJ3lFpoNdS"
    },
    {
      "cell_type": "markdown",
      "metadata": {
        "id": "EG-RsCunoNdS"
      },
      "source": [
        "- **O caso binomial pode ser estendido para quantas classses quisermos, porém há um aumento na complexidade**\n",
        "    - https://scikit-learn.org/stable/modules/linear_model.html#binary-case\n",
        "- **Podemos considerar todos as classes e todas as colunas**"
      ],
      "id": "EG-RsCunoNdS"
    },
    {
      "cell_type": "code",
      "execution_count": null,
      "metadata": {
        "id": "FPc7NWUEoNdS"
      },
      "outputs": [],
      "source": [
        "# Importando novamente o dataset\n",
        "from sklearn.datasets import load_iris\n",
        "X,y = load_iris(return_X_y = True, as_frame=True)"
      ],
      "id": "FPc7NWUEoNdS"
    },
    {
      "cell_type": "code",
      "execution_count": null,
      "metadata": {
        "id": "yg3RcAkloNdS"
      },
      "outputs": [],
      "source": [
        "# Separando em treino e teste\n",
        "X_train, X_test, y_train, y_test = train_test_split(X, y, test_size=0.33, random_state=42)"
      ],
      "id": "yg3RcAkloNdS"
    },
    {
      "cell_type": "code",
      "execution_count": null,
      "metadata": {
        "id": "lDNSHfMEoNdS"
      },
      "outputs": [],
      "source": [
        "# Criando novamente o classificador\n",
        "clf2 = LogisticRegression(random_state=0,max_iter=1000).fit(X_train, y_train)"
      ],
      "id": "lDNSHfMEoNdS"
    },
    {
      "cell_type": "code",
      "execution_count": null,
      "metadata": {
        "id": "drXXs3UYoNdS",
        "outputId": "5b1717ac-11e7-4636-d100-ac2794a9346e",
        "colab": {
          "base_uri": "https://localhost:8080/"
        }
      },
      "outputs": [
        {
          "output_type": "execute_result",
          "data": {
            "text/plain": [
              "array([[-0.39000206,  0.85585748, -2.24397125, -0.95265144],\n",
              "       [ 0.43966828, -0.36124807, -0.12427732, -0.77240525],\n",
              "       [-0.04966622, -0.49460941,  2.36824858,  1.72505669]])"
            ]
          },
          "metadata": {},
          "execution_count": 26
        }
      ],
      "source": [
        "# Verificando o coef_\n",
        "clf2.coef_"
      ],
      "id": "drXXs3UYoNdS"
    },
    {
      "cell_type": "code",
      "execution_count": null,
      "metadata": {
        "id": "pSzPYQ9NoNdT",
        "outputId": "76ccea52-a15c-40b0-b767-f5fa2ae1e2cd",
        "colab": {
          "base_uri": "https://localhost:8080/"
        }
      },
      "outputs": [
        {
          "output_type": "execute_result",
          "data": {
            "text/plain": [
              "array([  8.69267725,   2.11636906, -10.8090463 ])"
            ]
          },
          "metadata": {},
          "execution_count": 27
        }
      ],
      "source": [
        "# e o intercept\n",
        "clf2.intercept_"
      ],
      "id": "pSzPYQ9NoNdT"
    },
    {
      "cell_type": "code",
      "execution_count": null,
      "metadata": {
        "id": "eUZ1INUXoNdT"
      },
      "outputs": [],
      "source": [
        "# Fazendo a previsão das classes\n",
        "y_pred2 = clf2.predict(X_test)"
      ],
      "id": "eUZ1INUXoNdT"
    },
    {
      "cell_type": "code",
      "execution_count": null,
      "metadata": {
        "id": "90ival_XoNdT",
        "outputId": "2f34b649-be60-4625-b8f4-13ac4c86008b",
        "colab": {
          "base_uri": "https://localhost:8080/"
        }
      },
      "outputs": [
        {
          "output_type": "execute_result",
          "data": {
            "text/plain": [
              "array([[19,  0,  0],\n",
              "       [ 0, 15,  0],\n",
              "       [ 0,  0, 16]])"
            ]
          },
          "metadata": {},
          "execution_count": 29
        }
      ],
      "source": [
        "# Avaliando o erro\n",
        "confusion_matrix(y_test,y_pred2)"
      ],
      "id": "90ival_XoNdT"
    }
  ],
  "metadata": {
    "kernelspec": {
      "display_name": "Python 3",
      "language": "python",
      "name": "python3"
    },
    "language_info": {
      "codemirror_mode": {
        "name": "ipython",
        "version": 3
      },
      "file_extension": ".py",
      "mimetype": "text/x-python",
      "name": "python",
      "nbconvert_exporter": "python",
      "pygments_lexer": "ipython3",
      "version": "3.8.5"
    },
    "colab": {
      "provenance": [],
      "include_colab_link": true
    }
  },
  "nbformat": 4,
  "nbformat_minor": 5
}